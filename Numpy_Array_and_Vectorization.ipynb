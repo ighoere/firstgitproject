{
  "nbformat": 4,
  "nbformat_minor": 0,
  "metadata": {
    "colab": {
      "name": "Numpy Array and Vectorization.ipynb",
      "provenance": [],
      "authorship_tag": "ABX9TyPnSCGsYy9duov0ipPEaUuG",
      "include_colab_link": true
    },
    "kernelspec": {
      "name": "python3",
      "display_name": "Python 3"
    },
    "language_info": {
      "name": "python"
    }
  },
  "cells": [
    {
      "cell_type": "markdown",
      "metadata": {
        "id": "view-in-github",
        "colab_type": "text"
      },
      "source": [
        "<a href=\"https://colab.research.google.com/github/ighoere/firstgitproject/blob/main/Numpy_Array_and_Vectorization.ipynb\" target=\"_parent\"><img src=\"https://colab.research.google.com/assets/colab-badge.svg\" alt=\"Open In Colab\"/></a>"
      ]
    },
    {
      "cell_type": "markdown",
      "source": [
        "# CONVENTION FOR IMPORTING NUMPY"
      ],
      "metadata": {
        "id": "__mWWH2PBwBg"
      }
    },
    {
      "cell_type": "code",
      "execution_count": null,
      "metadata": {
        "colab": {
          "base_uri": "https://localhost:8080/"
        },
        "id": "tCwcvG2X8gR4",
        "outputId": "8ab83b94-85df-4339-a30e-253d64fcbeac"
      },
      "outputs": [
        {
          "output_type": "stream",
          "name": "stdout",
          "text": [
            "<class 'list'>\n",
            "<class 'numpy.ndarray'>\n",
            "(4,)\n",
            "int64\n",
            "1\n",
            "[[1 2 3]\n",
            " [4 5 6]]\n",
            "2\n",
            "<class 'list'>\n",
            "<class 'numpy.ndarray'>\n",
            "(4,)\n",
            "int64\n",
            "1\n",
            "[[1 2 3]\n",
            " [4 5 6]]\n",
            "2\n"
          ]
        },
        {
          "output_type": "execute_result",
          "data": {
            "text/plain": [
              "(2, 3)"
            ]
          },
          "metadata": {},
          "execution_count": 9
        }
      ],
      "source": [
        "import numpy as np\n",
        "arr=[6,7,8,9]\n",
        "print(type(arr)) #prints <class 'list'>\n",
        "\n",
        "a = np.array(arr)\n",
        "print(type(a)) #prints <class 'numpy.ndarray'>\n",
        "print(a.shape) # prints (4,)-a is a 1d array with 4 items\n",
        "print(a.dtype) #prints int64\n",
        "\n",
        "# get the dimension of a with ndim\n",
        "print(a.ndim) #prints 1\n",
        "\n",
        "b= np.array([[1,2,3,],[4,5,6]])\n",
        "print (b) #prints [[1 2 3]]\n",
        "                    #[[4 5 6]]\n",
        "print(b.ndim) #prints 2\n",
        "b.shape # prints (2,3) - b a 2d array with 2 rows and 3 columns\n",
        "\n",
        "import numpy as np\n",
        "arr=[6,7,8,9]\n",
        "print (type(arr))#prints  <'class 'list'>\n",
        "\n",
        "a=np.array(arr)\n",
        "print (type(a)) #prints <class 'numpy.array'>\n",
        "print(a.shape) #prints (4,)-is a 1d array with 4 items\n",
        "print(a.dtype) #prints int64\n",
        "# get the dimension of a with ndim\n",
        "print(a.ndim) #prints 1\n",
        "\n",
        "b= np.array([[1,2,3], [4,5,6]])\n",
        "print (b) #prints [[1,2,3],\n",
        "                  #[4,5,6]]\n",
        "\n",
        "print (b.ndim) #prints 2\n",
        "b.shape  #prints (2,3,) - b a 2d array with 2 rows and colomns\n"
      ]
    },
    {
      "cell_type": "code",
      "source": [
        ""
      ],
      "metadata": {
        "id": "3DUPLsn1CQ8f"
      },
      "execution_count": null,
      "outputs": []
    },
    {
      "cell_type": "markdown",
      "source": [
        "# INBUILT FUNCTIONS THAT CAN BE USED TO INITIALIZE NUMPY"
      ],
      "metadata": {
        "id": "jttwb6IlMRcG"
      }
    },
    {
      "cell_type": "code",
      "source": [
        "# a 2*3 array with random \n",
        "np.random.random((2,3)) # a 2*3 array of zeros\n",
        "np.zeros ((2,3))\n",
        "# a 2*3 array of ones\n",
        "np.ones ((2,3))\n",
        "# a 3*3 identity matrix\n",
        "np.identity(3)\n",
        "\n",
        "\n"
      ],
      "metadata": {
        "id": "4kxX15DyMoRk",
        "colab": {
          "base_uri": "https://localhost:8080/"
        },
        "outputId": "0e2ba24a-4743-420f-812d-7a626dcb98dd"
      },
      "execution_count": null,
      "outputs": [
        {
          "output_type": "execute_result",
          "data": {
            "text/plain": [
              "array([[1., 0., 0.],\n",
              "       [0., 1., 0.],\n",
              "       [0., 0., 1.]])"
            ]
          },
          "metadata": {},
          "execution_count": 13
        }
      ]
    },
    {
      "cell_type": "markdown",
      "source": [
        "# INTRA-OPERABILITY OF ARRAYS AND SCALARS"
      ],
      "metadata": {
        "id": "r0hZtXLCfR1V"
      }
    },
    {
      "cell_type": "code",
      "source": [
        "c = np.array([[9.0,8.0,7.0], [1.0,2.0,3.0]])\n",
        "d = np.array([[4.0,5.0,6.0], [9.0,8.0,7.0]])\n",
        "c+d # prints arrays ([[13.,13.,13.],#[10.,10.,10.]])\n",
        "c*d #prints arrays ([[36.,40.,42.], #[9.,16.,21.]])\n",
        "\n",
        "5/d # prints array ([[1.25  , 1. , 0.83333333], \n",
        "#[0.55555556, 0.625, 0.71428571]])\n",
        "\n",
        "c**2 # prints array ([[81.,64.,49.],[1.,4.,9.]])\n",
        "\n",
        "\n",
        "\n"
      ],
      "metadata": {
        "colab": {
          "base_uri": "https://localhost:8080/"
        },
        "id": "MO66Yxz-fkpo",
        "outputId": "b64c5ec7-5416-43ee-e334-7b246b3e1e9d"
      },
      "execution_count": null,
      "outputs": [
        {
          "output_type": "execute_result",
          "data": {
            "text/plain": [
              "array([[81., 64., 49.],\n",
              "       [ 1.,  4.,  9.]])"
            ]
          },
          "metadata": {},
          "execution_count": 15
        }
      ]
    },
    {
      "cell_type": "markdown",
      "source": [
        "# INDEXING WITH ARRAYS & USING ARRAYS FOR DATA PROCESSING"
      ],
      "metadata": {
        "id": "TnVViVLlipG0"
      }
    },
    {
      "cell_type": "code",
      "source": [
        "# The elements in the example arrays above can be accessed by indexing like lists in python su\n",
        "a[0] # prints 6\n",
        "a[3] # prints 9\n",
        "b[0, 0] #prints 1\n",
        "b[1, 2] #prints 6\n",
        "c[0, 1] #prints 8.\n",
        "\n",
        "#Elements in arrays can also be retrieve by slicing rows and columns or a combination of in  \n",
        "d[1, 0:2] #prints array ([9.,8.])\n",
        "\n",
        "e = np.array([[10, 11, 12], [13, 14, 15],\n",
        "              [16, 17, 18, 19, 20, 21]])\n",
        "\n",
        "\n",
        "# slicing\n",
        "\n",
        "e[:3, :2] #prints array ([[10,11], [13,14,16,17]])\n",
        "\n",
        "#There are other advanced methods of indexing which are shown below\n",
        "#integer indexing \n",
        "e [[2, 0, 3, 1],[2, 1, 0, 2]] #prints array (18,11,19,15)\n",
        "\n",
        "# boolean indexing meeting a specified condition\n",
        "\n",
        "e[e>15]#prints array (16,17,18,19,20,21])\n",
        "\n"
      ],
      "metadata": {
        "id": "zdW_f9Nbi9cA"
      },
      "execution_count": null,
      "outputs": []
    }
  ]
}